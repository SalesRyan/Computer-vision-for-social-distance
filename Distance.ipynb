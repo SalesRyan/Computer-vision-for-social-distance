{
 "cells": [
  {
   "cell_type": "code",
   "execution_count": null,
   "metadata": {},
   "outputs": [],
   "source": [
    "from math import sqrt\n",
    "import cv2"
   ]
  },
  {
   "cell_type": "code",
   "execution_count": null,
   "metadata": {},
   "outputs": [],
   "source": [
    "# def detection(image):\n",
    "\n",
    "#     bd = cv2.CascadeClassifier('haarcascade_fullbody.xml').detectMultiScale(image,minNeighbors=2,minSize=(10, 10),maxSize=(500,500))\n",
    "    \n",
    "#     for (x, y, w, h) in bd:\n",
    "#         cv2.rectangle(image, (x, y), (x+w, y+h), (115,84,201), 4)\n",
    "    \n",
    "#     return image\n",
    "\n",
    "def detection(image):\n",
    "\n",
    "    bd = cv2.CascadeClassifier('haarcascade_fullbody.xml').detectMultiScale(image,minNeighbors=2,minSize=(10, 10),maxSize=(500,500))\n",
    "    \n",
    "    for i in range(len(bd)):\n",
    "        x1, y1, w1, h1 = bd[i]\n",
    "        \n",
    "        for j in range(i+1, len(bd)):\n",
    "            x2, y2, w2, h2 = bd[j]\n",
    "            \n",
    "            dist = sqrt(((x2+h2 - x1+h1) ** 2) + ((y2+w2 - y1+w1) ** 2))\n",
    "            \n",
    "            start_point = (x1+h1, y1+w1)\n",
    "            end_point = (x2+h2, y2+w2)\n",
    "            color = (0, 255, 0)\n",
    "            thickness = 4\n",
    "            \n",
    "            image = cv2.line(image, start_point, end_point, color, thickness)\n",
    "        \n",
    "        cv2.rectangle(image, (x1, y1), (x1+w1, y1+h1), (115,84,201), 4)\n",
    "    \n",
    "    return image"
   ]
  },
  {
   "cell_type": "code",
   "execution_count": null,
   "metadata": {},
   "outputs": [],
   "source": [
    "# cap = cv2.VideoCapture(0)\n",
    "cap = cv2.VideoCapture('/home/vitoria/Área de Trabalho/VID-20200605-WA0037.mp4')\n",
    "\n",
    "while(True):\n",
    " \n",
    "    detec = detection(cap.read()[1])\n",
    "    \n",
    "    cv2.imshow('frame',detec)\n",
    "    \n",
    "    if cv2.waitKey(1) & 0xFF == ord('q'):\n",
    "        break\n",
    "\n",
    "cap.release()\n",
    "cv2.destroyAllWindows()\n",
    "del(cap)"
   ]
  },
  {
   "cell_type": "code",
   "execution_count": null,
   "metadata": {},
   "outputs": [],
   "source": []
  }
 ],
 "metadata": {
  "kernelspec": {
   "display_name": "Python 3",
   "language": "python",
   "name": "python3"
  },
  "language_info": {
   "codemirror_mode": {
    "name": "ipython",
    "version": 3
   },
   "file_extension": ".py",
   "mimetype": "text/x-python",
   "name": "python",
   "nbconvert_exporter": "python",
   "pygments_lexer": "ipython3",
   "version": "3.7.3"
  }
 },
 "nbformat": 4,
 "nbformat_minor": 4
}
